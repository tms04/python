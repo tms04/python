{
 "cells": [
  {
   "cell_type": "markdown",
   "metadata": {},
   "source": [
    "*   Define a method in the inner class and access the same by code outside the outer class"
   ]
  },
  {
   "cell_type": "code",
   "execution_count": 8,
   "metadata": {},
   "outputs": [
    {
     "name": "stdout",
     "output_type": "stream",
     "text": [
      "Hii\n"
     ]
    }
   ],
   "source": [
    "class Outer_class:\n",
    "    class Inner_class:\n",
    "        def Inner(self):\n",
    "            print(\"Hii\")\n",
    "obj=Outer_class()\n",
    "obj.Inner_class().Inner()"
   ]
  },
  {
   "cell_type": "markdown",
   "metadata": {},
   "source": [
    "*   Create a class Rectangle. The class has 2 attributes, length and width, each of which defaults to 0. It has methods to calculate the perimeter and area of the rectangle. It has set and get methods for both length and width. The set method should verify that length and width are floating point numbers larger than 0.0 and less than 20.0"
   ]
  },
  {
   "cell_type": "code",
   "execution_count": 33,
   "metadata": {},
   "outputs": [
    {
     "name": "stdout",
     "output_type": "stream",
     "text": [
      "4.0\n",
      "8.0\n"
     ]
    }
   ],
   "source": [
    "class Rectangle:\n",
    "    _length=0\n",
    "    _width=0\n",
    "    @property\n",
    "    def length(self):\n",
    "        return self._length\n",
    "    @property\n",
    "    def width(self):\n",
    "        return self._width\n",
    "    @length.setter\n",
    "    def length(self, new_length):\n",
    "        if isinstance(new_length,float) and new_length>0.0 and new_length<20.0: \n",
    "            self._length = new_length\n",
    "        else:\n",
    "            raise ArithmeticError(\"Invalid length\")\n",
    "    @width.setter\n",
    "    def width(self, new_width):\n",
    "        if isinstance(new_width,float) and new_width>0.0 and new_width<20.0:\n",
    "            self._width = new_width\n",
    "        else:\n",
    "            raise ArithmeticError(\"Invalid width\")\n",
    "    def perimeter(self):\n",
    "        return 2*(self.length+self.width)\n",
    "    def area(self):\n",
    "        return self.length*self.width\n",
    "obj1=Rectangle()\n",
    "obj1.length=2.0\n",
    "obj1.width=2.0\n",
    "print(obj1.area())\n",
    "print(obj1.perimeter())\n"
   ]
  },
  {
   "cell_type": "markdown",
   "metadata": {},
   "source": [
    "*   WAP to arrange the names of students in descending order of their totalmarks, input data consists of student’s details such as names, ID. no, marks of math, physics, and chemistry."
   ]
  },
  {
   "cell_type": "code",
   "execution_count": null,
   "metadata": {},
   "outputs": [],
   "source": [
    "class Student:\n",
    "    "
   ]
  }
 ],
 "metadata": {
  "kernelspec": {
   "display_name": "Python 3",
   "language": "python",
   "name": "python3"
  },
  "language_info": {
   "codemirror_mode": {
    "name": "ipython",
    "version": 3
   },
   "file_extension": ".py",
   "mimetype": "text/x-python",
   "name": "python",
   "nbconvert_exporter": "python",
   "pygments_lexer": "ipython3",
   "version": "3.10.13"
  }
 },
 "nbformat": 4,
 "nbformat_minor": 2
}
