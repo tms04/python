{
 "cells": [
  {
   "cell_type": "markdown",
   "metadata": {},
   "source": [
    "# USING TRY-EXCEPT PROBLEM\n",
    " "
   ]
  },
  {
   "cell_type": "code",
   "execution_count": 6,
   "metadata": {},
   "outputs": [
    {
     "name": "stdout",
     "output_type": "stream",
     "text": [
      "division by zero error\n",
      "Finally\n"
     ]
    }
   ],
   "source": [
    "try:\n",
    "    a=int(input(\"Enter an integer\"))\n",
    "    b=int(input(\"Enter 2nd number\"))\n",
    "    print(a/b)\n",
    "except Exception as e:\n",
    "    print(e,\"error\")\n",
    "else:\n",
    "    print(\"Else block\")\n",
    "finally:\n",
    "    print(\"Finally\")"
   ]
  },
  {
   "cell_type": "markdown",
   "metadata": {},
   "source": [
    " Q1)Make your exception class “Invalid Marks”\n",
    " \n",
    "  which is thrown when marks obtained by student exceeds100\n"
   ]
  },
  {
   "cell_type": "code",
   "execution_count": 27,
   "metadata": {},
   "outputs": [
    {
     "ename": "InvalidMarks",
     "evalue": "Marks cannot be greater than 100",
     "output_type": "error",
     "traceback": [
      "\u001b[0;31m---------------------------------------------------------------------------\u001b[0m",
      "\u001b[0;31mInvalidMarks\u001b[0m                              Traceback (most recent call last)",
      "Cell \u001b[0;32mIn[27], line 5\u001b[0m\n\u001b[1;32m      3\u001b[0m int1\u001b[38;5;241m=\u001b[39m\u001b[38;5;28mint\u001b[39m(\u001b[38;5;28minput\u001b[39m(\u001b[38;5;124m\"\u001b[39m\u001b[38;5;124mEnter the marks of student\u001b[39m\u001b[38;5;124m\"\u001b[39m))\n\u001b[1;32m      4\u001b[0m \u001b[38;5;28;01mif\u001b[39;00m(int1\u001b[38;5;241m>\u001b[39m\u001b[38;5;241m100\u001b[39m):\n\u001b[0;32m----> 5\u001b[0m     \u001b[38;5;28;01mraise\u001b[39;00m InvalidMarks(\u001b[38;5;124m\"\u001b[39m\u001b[38;5;124mMarks cannot be greater than 100\u001b[39m\u001b[38;5;124m\"\u001b[39m)\n",
      "\u001b[0;31mInvalidMarks\u001b[0m: Marks cannot be greater than 100"
     ]
    }
   ],
   "source": [
    "class InvalidMarks(Exception):\n",
    "    pass\n",
    "int1=int(input(\"Enter the marks of student\"))\n",
    "if(int1>100):\n",
    "    raise InvalidMarks(\"Marks cannot be greater than 100\")"
   ]
  },
  {
   "cell_type": "markdown",
   "metadata": {},
   "source": [
    "Q2)Write a Python program that prompts the user to \n",
    "\n",
    "input two numbers and raises a TypeError exception \n",
    "\n",
    "if the inputs are not numerical."
   ]
  },
  {
   "cell_type": "code",
   "execution_count": 45,
   "metadata": {},
   "outputs": [
    {
     "ename": "TypeError",
     "evalue": "TYPE ERROR",
     "output_type": "error",
     "traceback": [
      "\u001b[0;31m---------------------------------------------------------------------------\u001b[0m",
      "\u001b[0;31mTypeError\u001b[0m                                 Traceback (most recent call last)",
      "Cell \u001b[0;32mIn[45], line 6\u001b[0m\n\u001b[1;32m      4\u001b[0m     \u001b[38;5;28mprint\u001b[39m(\u001b[38;5;124m\"\u001b[39m\u001b[38;5;124mNo Error\u001b[39m\u001b[38;5;124m\"\u001b[39m)\n\u001b[1;32m      5\u001b[0m \u001b[38;5;28;01melse\u001b[39;00m:\n\u001b[0;32m----> 6\u001b[0m     \u001b[38;5;28;01mraise\u001b[39;00m \u001b[38;5;167;01mTypeError\u001b[39;00m(\u001b[38;5;124m\"\u001b[39m\u001b[38;5;124mTYPE ERROR\u001b[39m\u001b[38;5;124m\"\u001b[39m)\n",
      "\u001b[0;31mTypeError\u001b[0m: TYPE ERROR"
     ]
    }
   ],
   "source": [
    "int1=input(\"Enter first number\")\n",
    "int2=input(\"Enter 2nd integer\")\n",
    "if int1.isnumeric() and int2.isnumeric() :\n",
    "    print(\"No Error\")\n",
    "else:\n",
    "    raise TypeError(\"TYPE ERROR\")"
   ]
  },
  {
   "cell_type": "markdown",
   "metadata": {},
   "source": [
    "Q3)Create user defined exception to display proper \n",
    "\n",
    "message when value of (b*d) is zero"
   ]
  },
  {
   "cell_type": "code",
   "execution_count": 55,
   "metadata": {},
   "outputs": [
    {
     "ename": "UserExpception",
     "evalue": "Product of the 2 numbers is 0",
     "output_type": "error",
     "traceback": [
      "\u001b[0;31m---------------------------------------------------------------------------\u001b[0m",
      "\u001b[0;31mUserExpception\u001b[0m                            Traceback (most recent call last)",
      "Cell \u001b[0;32mIn[55], line 6\u001b[0m\n\u001b[1;32m      4\u001b[0m d\u001b[38;5;241m=\u001b[39m\u001b[38;5;28mint\u001b[39m(\u001b[38;5;28minput\u001b[39m(\u001b[38;5;124m\"\u001b[39m\u001b[38;5;124mEnter the value of 2nd integer\u001b[39m\u001b[38;5;124m\"\u001b[39m))\n\u001b[1;32m      5\u001b[0m \u001b[38;5;28;01mif\u001b[39;00m(b\u001b[38;5;241m*\u001b[39md \u001b[38;5;241m==\u001b[39m \u001b[38;5;241m0\u001b[39m):\n\u001b[0;32m----> 6\u001b[0m     \u001b[38;5;28;01mraise\u001b[39;00m UserExpception(\u001b[38;5;124m\"\u001b[39m\u001b[38;5;124mProduct of the 2 numbers is 0\u001b[39m\u001b[38;5;124m\"\u001b[39m)\n",
      "\u001b[0;31mUserExpception\u001b[0m: Product of the 2 numbers is 0"
     ]
    }
   ],
   "source": [
    "class UserExpception(Exception):\n",
    "    pass\n",
    "b=int(input(\"Enter the value of 1st integer\"))\n",
    "d=int(input(\"Enter the value of 2nd integer\"))\n",
    "if(b*d == 0):\n",
    "    raise UserExpception(\"Product of the 2 numbers is 0\")\n"
   ]
  },
  {
   "cell_type": "markdown",
   "metadata": {},
   "source": [
    "Q4)Write a Python program that opens a file and \n",
    "\n",
    "handles a PermissionError exception if there \n",
    "\n",
    "is a permission issue."
   ]
  },
  {
   "cell_type": "code",
   "execution_count": 48,
   "metadata": {},
   "outputs": [
    {
     "name": "stdout",
     "output_type": "stream",
     "text": [
      "error\n"
     ]
    }
   ],
   "source": [
    "f=None\n",
    "try:\n",
    "    with open(\"ABC.txt\",\"w\") as f:\n",
    "        f.write('asds')\n",
    "except PermissionError as e:\n",
    "    print(\"error\")\n",
    "\n"
   ]
  },
  {
   "cell_type": "markdown",
   "metadata": {},
   "source": [
    "Q5)Write a python program to calculate average of number using the assert \n",
    "\n",
    "statement that checks if the length of the numbers list is greater than zero. \n",
    "\n",
    "If the list is empty, the assert statement raises an AssertionError with the specific message"
   ]
  },
  {
   "cell_type": "code",
   "execution_count": 54,
   "metadata": {},
   "outputs": [
    {
     "ename": "AssertionError",
     "evalue": "Errror",
     "output_type": "error",
     "traceback": [
      "\u001b[0;31m---------------------------------------------------------------------------\u001b[0m",
      "\u001b[0;31mAssertionError\u001b[0m                            Traceback (most recent call last)",
      "Cell \u001b[0;32mIn[54], line 4\u001b[0m\n\u001b[1;32m      2\u001b[0m \u001b[38;5;28;01mfor\u001b[39;00m i \u001b[38;5;129;01min\u001b[39;00m \u001b[38;5;28mrange\u001b[39m(\u001b[38;5;28mint\u001b[39m(\u001b[38;5;28minput\u001b[39m(\u001b[38;5;124m\"\u001b[39m\u001b[38;5;124mEnter the total number of integers in the list\u001b[39m\u001b[38;5;124m\"\u001b[39m))):\n\u001b[1;32m      3\u001b[0m     nums\u001b[38;5;241m.\u001b[39mappend(\u001b[38;5;28mint\u001b[39m(\u001b[38;5;28minput\u001b[39m(\u001b[38;5;124m\"\u001b[39m\u001b[38;5;124mEnter integer \u001b[39m\u001b[38;5;124m\"\u001b[39m\u001b[38;5;241m+\u001b[39m\u001b[38;5;28mstr\u001b[39m(i))))\n\u001b[0;32m----> 4\u001b[0m \u001b[38;5;28;01massert\u001b[39;00m \u001b[38;5;28mlen\u001b[39m(nums)\u001b[38;5;241m>\u001b[39m\u001b[38;5;241m0\u001b[39m, \u001b[38;5;124m\"\u001b[39m\u001b[38;5;124mErrror\u001b[39m\u001b[38;5;124m\"\u001b[39m\n",
      "\u001b[0;31mAssertionError\u001b[0m: Errror"
     ]
    }
   ],
   "source": [
    "nums: list[int]=[]\n",
    "for i in range(int(input(\"Enter the total number of integers in the list\"))):\n",
    "    nums.append(int(input(\"Enter integer \"+str(i))))\n",
    "assert len(nums)>0, \"Errror\"\n"
   ]
  }
 ],
 "metadata": {
  "kernelspec": {
   "display_name": "Python 3",
   "language": "python",
   "name": "python3"
  },
  "language_info": {
   "codemirror_mode": {
    "name": "ipython",
    "version": 3
   },
   "file_extension": ".py",
   "mimetype": "text/x-python",
   "name": "python",
   "nbconvert_exporter": "python",
   "pygments_lexer": "ipython3",
   "version": "3.10.13"
  }
 },
 "nbformat": 4,
 "nbformat_minor": 2
}
