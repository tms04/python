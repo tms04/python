{
 "cells": [
  {
   "cell_type": "markdown",
   "metadata": {},
   "source": [
    "EXP 3"
   ]
  },
  {
   "cell_type": "markdown",
   "metadata": {},
   "source": [
    "1. Write Python code that asks:x1,x2,y1,y2\n",
    "And Calculate the slope of the line slope=(y2-y1)/(x2-x1)\n",
    "· If the slope is positive, print “positive slope”.\n",
    "· If the slope is negative, print “negative slope”.\n",
    "· If the slope is zero, print “horizontal line”.\n",
    "· If the denominator is 0, print “vertical line”. "
   ]
  },
  {
   "cell_type": "code",
   "execution_count": 3,
   "metadata": {},
   "outputs": [
    {
     "name": "stdout",
     "output_type": "stream",
     "text": [
      "vertical line\n"
     ]
    }
   ],
   "source": [
    "x1=int(input(\"ENTER x1 : \"))\n",
    "x2=int(input(\"ENTER x2 : \"))\n",
    "y1=int(input(\"ENTER y1 : \"))\n",
    "y2=int(input(\"ENTER y2 : \"))\n",
    "a=x2-x1\n",
    "b=y2-y1\n",
    "if(a==0):\n",
    "    print(\"vertical line\")\n",
    "else:\n",
    "    if(b==0):\n",
    "        print(\"horizontal line\")\n",
    "    elif(b/a>0):\n",
    "        print(\"positive slope\")\n",
    "    else:\n",
    "        print(\"negative slope\")\n"
   ]
  },
  {
   "cell_type": "markdown",
   "metadata": {},
   "source": [
    "2. Use a while loop to display a table of Celsius temperatures from 20 to 10 and their\n",
    "Fahrenheit equivalents.\n",
    "The formula for converting a temperature from Celsius to Fahrenheit is:\n",
    "F=(9/5)*C+32 "
   ]
  },
  {
   "cell_type": "code",
   "execution_count": 6,
   "metadata": {},
   "outputs": [
    {
     "name": "stdout",
     "output_type": "stream",
     "text": [
      "CELSIUS\tFAHRENHEIT\n",
      "20 \t 68.0\n",
      "19 \t 66.2\n",
      "18 \t 64.4\n",
      "17 \t 62.6\n",
      "16 \t 60.8\n",
      "15 \t 59.0\n",
      "14 \t 57.2\n",
      "13 \t 55.400000000000006\n",
      "12 \t 53.6\n",
      "11 \t 51.8\n",
      "10 \t 50.0\n"
     ]
    }
   ],
   "source": [
    "print(\"CELSIUS\\tFAHRENHEIT\")\n",
    "i=20\n",
    "while i>9:\n",
    "    print(i,\"\\t\",(9/5)*i+32)\n",
    "    i-=1\n"
   ]
  },
  {
   "cell_type": "markdown",
   "metadata": {},
   "source": [
    "3. Write a Python program to create a list of integers with repetitions and display the list of  \n",
    "pairs as follows:  \n",
    "for each number n that appears in l, there should be exactly one pair (n,r) in the output list where  \n",
    "r is the number of repetitions of n in l. The final list should be sorted in ascending order by r, the  \n",
    "number of repetitions.  \n",
    "For instance:  \n",
    "INPUT: ([13,12,11,13,14,13,7,7,13,14,12])  \n",
    "OUTPUT: [(11, 1), (7, 2), (12, 2), (14, 2), (13, 4)  \n"
   ]
  },
  {
   "cell_type": "code",
   "execution_count": 18,
   "metadata": {},
   "outputs": [
    {
     "name": "stdout",
     "output_type": "stream",
     "text": [
      "[(5, 1), (4, 1), (3, 2), (2, 3), (1, 4)]\n"
     ]
    }
   ],
   "source": [
    "dict={}\n",
    "list=[1,2,1,2,3,1,2,3,4,5,1]\n",
    "for i in list:\n",
    "    if(i in dict.keys()):\n",
    "        dict[i]+=1\n",
    "    else:\n",
    "        dict[i]=1\n",
    "tuples=[(k,v) for k,v in dict.items()]\n",
    "last = len(tuples)\n",
    "first=0   \n",
    "for k in range(0, last):   \n",
    "    for l in range(0, last-k-1):   \n",
    "        if (tuples[l][first] < tuples[l + 1][first]):   \n",
    "            new_item = tuples[l]   \n",
    "            tuples[l]= tuples[l + 1]   \n",
    "            tuples[l + 1]= new_item   \n",
    "print(tuples) \n"
   ]
  },
  {
   "cell_type": "markdown",
   "metadata": {},
   "source": [
    "B. Program using Functions  \n",
    "1. Write a function to check if a given number is prime or not."
   ]
  },
  {
   "cell_type": "code",
   "execution_count": 37,
   "metadata": {},
   "outputs": [
    {
     "name": "stdout",
     "output_type": "stream",
     "text": [
      "prime\n"
     ]
    }
   ],
   "source": [
    "def is_prime(num):\n",
    "    if(num==0 or num<0):\n",
    "        return 0\n",
    "    i=num-1\n",
    "    while i>1:\n",
    "        if(num%i==0):\n",
    "            return 0\n",
    "        i-=1\n",
    "    return 1\n",
    "a=is_prime(int(input(\"Enter the number\")))\n",
    "if(a==0):\n",
    "    print(\"Not prime\")\n",
    "else:\n",
    "    print(\"prime\")"
   ]
  },
  {
   "cell_type": "markdown",
   "metadata": {},
   "source": [
    "2. Write a python program to calculate factorial value of numbers  \n",
    "  a) Without recursive function  \n",
    "  b) With recursive function\n"
   ]
  },
  {
   "cell_type": "code",
   "execution_count": 45,
   "metadata": {},
   "outputs": [
    {
     "data": {
      "text/plain": [
       "120"
      ]
     },
     "execution_count": 45,
     "metadata": {},
     "output_type": "execute_result"
    }
   ],
   "source": [
    "a=int(input(\"Enter the number\"))\n",
    "for i in reversed(range(1,a)):\n",
    "    a=a*i\n",
    "a"
   ]
  },
  {
   "cell_type": "code",
   "execution_count": 47,
   "metadata": {},
   "outputs": [
    {
     "data": {
      "text/plain": [
       "120"
      ]
     },
     "execution_count": 47,
     "metadata": {},
     "output_type": "execute_result"
    }
   ],
   "source": [
    "def rec_fac(num):\n",
    "    if(num==1):\n",
    "        return 1\n",
    "    else:\n",
    "        return(num*rec_fac(num-1))\n",
    "rec_fac(int(input(\"Enter the number\")))"
   ]
  },
  {
   "cell_type": "markdown",
   "metadata": {},
   "source": []
  }
 ],
 "metadata": {
  "kernelspec": {
   "display_name": "Python 3 (ipykernel)",
   "language": "python",
   "name": "python3"
  }
 },
 "nbformat": 4,
 "nbformat_minor": 2
}
