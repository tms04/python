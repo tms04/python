{
 "cells": [
  {
   "cell_type": "code",
   "execution_count": 1,
   "metadata": {},
   "outputs": [
    {
     "data": {
      "text/html": [
       "<div>\n",
       "<style scoped>\n",
       "    .dataframe tbody tr th:only-of-type {\n",
       "        vertical-align: middle;\n",
       "    }\n",
       "\n",
       "    .dataframe tbody tr th {\n",
       "        vertical-align: top;\n",
       "    }\n",
       "\n",
       "    .dataframe thead th {\n",
       "        text-align: right;\n",
       "    }\n",
       "</style>\n",
       "<table border=\"1\" class=\"dataframe\">\n",
       "  <thead>\n",
       "    <tr style=\"text-align: right;\">\n",
       "      <th></th>\n",
       "      <th>age</th>\n",
       "      <th>workclass</th>\n",
       "      <th>fnlwgt</th>\n",
       "      <th>education</th>\n",
       "      <th>educational-num</th>\n",
       "      <th>marital-status</th>\n",
       "      <th>occupation</th>\n",
       "      <th>relationship</th>\n",
       "      <th>race</th>\n",
       "      <th>gender</th>\n",
       "      <th>capital-gain</th>\n",
       "      <th>capital-loss</th>\n",
       "      <th>hours-per-week</th>\n",
       "      <th>native-country</th>\n",
       "      <th>income</th>\n",
       "    </tr>\n",
       "  </thead>\n",
       "  <tbody>\n",
       "    <tr>\n",
       "      <th>0</th>\n",
       "      <td>25</td>\n",
       "      <td>Private</td>\n",
       "      <td>226802</td>\n",
       "      <td>11th</td>\n",
       "      <td>7</td>\n",
       "      <td>Never-married</td>\n",
       "      <td>Machine-op-inspct</td>\n",
       "      <td>Own-child</td>\n",
       "      <td>Black</td>\n",
       "      <td>Male</td>\n",
       "      <td>0</td>\n",
       "      <td>0</td>\n",
       "      <td>40</td>\n",
       "      <td>United-States</td>\n",
       "      <td>&lt;=50K</td>\n",
       "    </tr>\n",
       "    <tr>\n",
       "      <th>1</th>\n",
       "      <td>38</td>\n",
       "      <td>Private</td>\n",
       "      <td>89814</td>\n",
       "      <td>HS-grad</td>\n",
       "      <td>9</td>\n",
       "      <td>Married-civ-spouse</td>\n",
       "      <td>Farming-fishing</td>\n",
       "      <td>Husband</td>\n",
       "      <td>White</td>\n",
       "      <td>Male</td>\n",
       "      <td>0</td>\n",
       "      <td>0</td>\n",
       "      <td>50</td>\n",
       "      <td>United-States</td>\n",
       "      <td>&lt;=50K</td>\n",
       "    </tr>\n",
       "    <tr>\n",
       "      <th>2</th>\n",
       "      <td>28</td>\n",
       "      <td>Local-gov</td>\n",
       "      <td>336951</td>\n",
       "      <td>Assoc-acdm</td>\n",
       "      <td>12</td>\n",
       "      <td>Married-civ-spouse</td>\n",
       "      <td>Protective-serv</td>\n",
       "      <td>Husband</td>\n",
       "      <td>White</td>\n",
       "      <td>Male</td>\n",
       "      <td>0</td>\n",
       "      <td>0</td>\n",
       "      <td>40</td>\n",
       "      <td>United-States</td>\n",
       "      <td>&gt;50K</td>\n",
       "    </tr>\n",
       "    <tr>\n",
       "      <th>3</th>\n",
       "      <td>44</td>\n",
       "      <td>Private</td>\n",
       "      <td>160323</td>\n",
       "      <td>Some-college</td>\n",
       "      <td>10</td>\n",
       "      <td>Married-civ-spouse</td>\n",
       "      <td>Machine-op-inspct</td>\n",
       "      <td>Husband</td>\n",
       "      <td>Black</td>\n",
       "      <td>Male</td>\n",
       "      <td>7688</td>\n",
       "      <td>0</td>\n",
       "      <td>40</td>\n",
       "      <td>United-States</td>\n",
       "      <td>&gt;50K</td>\n",
       "    </tr>\n",
       "    <tr>\n",
       "      <th>4</th>\n",
       "      <td>18</td>\n",
       "      <td>?</td>\n",
       "      <td>103497</td>\n",
       "      <td>Some-college</td>\n",
       "      <td>10</td>\n",
       "      <td>Never-married</td>\n",
       "      <td>?</td>\n",
       "      <td>Own-child</td>\n",
       "      <td>White</td>\n",
       "      <td>Female</td>\n",
       "      <td>0</td>\n",
       "      <td>0</td>\n",
       "      <td>30</td>\n",
       "      <td>United-States</td>\n",
       "      <td>&lt;=50K</td>\n",
       "    </tr>\n",
       "    <tr>\n",
       "      <th>...</th>\n",
       "      <td>...</td>\n",
       "      <td>...</td>\n",
       "      <td>...</td>\n",
       "      <td>...</td>\n",
       "      <td>...</td>\n",
       "      <td>...</td>\n",
       "      <td>...</td>\n",
       "      <td>...</td>\n",
       "      <td>...</td>\n",
       "      <td>...</td>\n",
       "      <td>...</td>\n",
       "      <td>...</td>\n",
       "      <td>...</td>\n",
       "      <td>...</td>\n",
       "      <td>...</td>\n",
       "    </tr>\n",
       "    <tr>\n",
       "      <th>48837</th>\n",
       "      <td>27</td>\n",
       "      <td>Private</td>\n",
       "      <td>257302</td>\n",
       "      <td>Assoc-acdm</td>\n",
       "      <td>12</td>\n",
       "      <td>Married-civ-spouse</td>\n",
       "      <td>Tech-support</td>\n",
       "      <td>Wife</td>\n",
       "      <td>White</td>\n",
       "      <td>Female</td>\n",
       "      <td>0</td>\n",
       "      <td>0</td>\n",
       "      <td>38</td>\n",
       "      <td>United-States</td>\n",
       "      <td>&lt;=50K</td>\n",
       "    </tr>\n",
       "    <tr>\n",
       "      <th>48838</th>\n",
       "      <td>40</td>\n",
       "      <td>Private</td>\n",
       "      <td>154374</td>\n",
       "      <td>HS-grad</td>\n",
       "      <td>9</td>\n",
       "      <td>Married-civ-spouse</td>\n",
       "      <td>Machine-op-inspct</td>\n",
       "      <td>Husband</td>\n",
       "      <td>White</td>\n",
       "      <td>Male</td>\n",
       "      <td>0</td>\n",
       "      <td>0</td>\n",
       "      <td>40</td>\n",
       "      <td>United-States</td>\n",
       "      <td>&gt;50K</td>\n",
       "    </tr>\n",
       "    <tr>\n",
       "      <th>48839</th>\n",
       "      <td>58</td>\n",
       "      <td>Private</td>\n",
       "      <td>151910</td>\n",
       "      <td>HS-grad</td>\n",
       "      <td>9</td>\n",
       "      <td>Widowed</td>\n",
       "      <td>Adm-clerical</td>\n",
       "      <td>Unmarried</td>\n",
       "      <td>White</td>\n",
       "      <td>Female</td>\n",
       "      <td>0</td>\n",
       "      <td>0</td>\n",
       "      <td>40</td>\n",
       "      <td>United-States</td>\n",
       "      <td>&lt;=50K</td>\n",
       "    </tr>\n",
       "    <tr>\n",
       "      <th>48840</th>\n",
       "      <td>22</td>\n",
       "      <td>Private</td>\n",
       "      <td>201490</td>\n",
       "      <td>HS-grad</td>\n",
       "      <td>9</td>\n",
       "      <td>Never-married</td>\n",
       "      <td>Adm-clerical</td>\n",
       "      <td>Own-child</td>\n",
       "      <td>White</td>\n",
       "      <td>Male</td>\n",
       "      <td>0</td>\n",
       "      <td>0</td>\n",
       "      <td>20</td>\n",
       "      <td>United-States</td>\n",
       "      <td>&lt;=50K</td>\n",
       "    </tr>\n",
       "    <tr>\n",
       "      <th>48841</th>\n",
       "      <td>52</td>\n",
       "      <td>Self-emp-inc</td>\n",
       "      <td>287927</td>\n",
       "      <td>HS-grad</td>\n",
       "      <td>9</td>\n",
       "      <td>Married-civ-spouse</td>\n",
       "      <td>Exec-managerial</td>\n",
       "      <td>Wife</td>\n",
       "      <td>White</td>\n",
       "      <td>Female</td>\n",
       "      <td>15024</td>\n",
       "      <td>0</td>\n",
       "      <td>40</td>\n",
       "      <td>United-States</td>\n",
       "      <td>&gt;50K</td>\n",
       "    </tr>\n",
       "  </tbody>\n",
       "</table>\n",
       "<p>48842 rows × 15 columns</p>\n",
       "</div>"
      ],
      "text/plain": [
       "       age     workclass  fnlwgt     education  educational-num  \\\n",
       "0       25       Private  226802          11th                7   \n",
       "1       38       Private   89814       HS-grad                9   \n",
       "2       28     Local-gov  336951    Assoc-acdm               12   \n",
       "3       44       Private  160323  Some-college               10   \n",
       "4       18             ?  103497  Some-college               10   \n",
       "...    ...           ...     ...           ...              ...   \n",
       "48837   27       Private  257302    Assoc-acdm               12   \n",
       "48838   40       Private  154374       HS-grad                9   \n",
       "48839   58       Private  151910       HS-grad                9   \n",
       "48840   22       Private  201490       HS-grad                9   \n",
       "48841   52  Self-emp-inc  287927       HS-grad                9   \n",
       "\n",
       "           marital-status         occupation relationship   race  gender  \\\n",
       "0           Never-married  Machine-op-inspct    Own-child  Black    Male   \n",
       "1      Married-civ-spouse    Farming-fishing      Husband  White    Male   \n",
       "2      Married-civ-spouse    Protective-serv      Husband  White    Male   \n",
       "3      Married-civ-spouse  Machine-op-inspct      Husband  Black    Male   \n",
       "4           Never-married                  ?    Own-child  White  Female   \n",
       "...                   ...                ...          ...    ...     ...   \n",
       "48837  Married-civ-spouse       Tech-support         Wife  White  Female   \n",
       "48838  Married-civ-spouse  Machine-op-inspct      Husband  White    Male   \n",
       "48839             Widowed       Adm-clerical    Unmarried  White  Female   \n",
       "48840       Never-married       Adm-clerical    Own-child  White    Male   \n",
       "48841  Married-civ-spouse    Exec-managerial         Wife  White  Female   \n",
       "\n",
       "       capital-gain  capital-loss  hours-per-week native-country income  \n",
       "0                 0             0              40  United-States  <=50K  \n",
       "1                 0             0              50  United-States  <=50K  \n",
       "2                 0             0              40  United-States   >50K  \n",
       "3              7688             0              40  United-States   >50K  \n",
       "4                 0             0              30  United-States  <=50K  \n",
       "...             ...           ...             ...            ...    ...  \n",
       "48837             0             0              38  United-States  <=50K  \n",
       "48838             0             0              40  United-States   >50K  \n",
       "48839             0             0              40  United-States  <=50K  \n",
       "48840             0             0              20  United-States  <=50K  \n",
       "48841         15024             0              40  United-States   >50K  \n",
       "\n",
       "[48842 rows x 15 columns]"
      ]
     },
     "execution_count": 1,
     "metadata": {},
     "output_type": "execute_result"
    }
   ],
   "source": [
    "import pandas as pb\n",
    "df=pb.read_csv(\"./practical.csv\")\n",
    "df"
   ]
  },
  {
   "cell_type": "markdown",
   "metadata": {},
   "source": [
    "1. How many men and women (sex feature) are represented in this dataset?"
   ]
  },
  {
   "cell_type": "code",
   "execution_count": 5,
   "metadata": {},
   "outputs": [
    {
     "data": {
      "text/plain": [
       "gender\n",
       "Male      32650\n",
       "Female    16192\n",
       "Name: count, dtype: int64"
      ]
     },
     "execution_count": 5,
     "metadata": {},
     "output_type": "execute_result"
    }
   ],
   "source": [
    "df.gender.value_counts()"
   ]
  },
  {
   "cell_type": "markdown",
   "metadata": {},
   "source": [
    "2. What is the average age (age feature) of women?"
   ]
  },
  {
   "cell_type": "code",
   "execution_count": 6,
   "metadata": {},
   "outputs": [
    {
     "data": {
      "text/plain": [
       "36.92798913043478"
      ]
     },
     "execution_count": 6,
     "metadata": {},
     "output_type": "execute_result"
    }
   ],
   "source": [
    "df[df[\"gender\"]==\"Female\"][\"age\"].mean()"
   ]
  },
  {
   "cell_type": "markdown",
   "metadata": {},
   "source": [
    "3. What is the percentage of German citizens (native-country feature)?\n"
   ]
  },
  {
   "cell_type": "code",
   "execution_count": 20,
   "metadata": {},
   "outputs": [
    {
     "data": {
      "text/plain": [
       "0.421768150362393"
      ]
     },
     "execution_count": 20,
     "metadata": {},
     "output_type": "execute_result"
    }
   ],
   "source": [
    "german=len(df[df[\"native-country\"]==\"Germany\"])\n",
    "german/len(df)*100\n",
    "\n"
   ]
  },
  {
   "cell_type": "markdown",
   "metadata": {},
   "source": [
    "4. What are the mean and standard deviation of age for those who earn more than 50K per\n",
    "year (salary feature) and those who earn less than 50K per year?\n"
   ]
  },
  {
   "cell_type": "code",
   "execution_count": 27,
   "metadata": {},
   "outputs": [
    {
     "name": "stdout",
     "output_type": "stream",
     "text": [
      "Rich man mean of age 44.275177547702576\n",
      "Rich man standard deviation of age 10.55898337028787\n",
      "Poor man mean of age 36.87218409366169\n",
      "Poor man standard deviation of age 14.104118026101544\n"
     ]
    }
   ],
   "source": [
    "print(\"Rich man mean of age\",df[df[\"income\"] == \">50K\"][\"age\"].mean())\n",
    "print(\"Rich man standard deviation of age\",df[df[\"income\"] == \">50K\"][\"age\"].std())\n",
    "print(\"Poor man mean of age\",df[df[\"income\"] == \"<=50K\"][\"age\"].mean())\n",
    "print(\"Poor man standard deviation of age\",df[df[\"income\"] == \"<=50K\"][\"age\"].std())"
   ]
  },
  {
   "cell_type": "markdown",
   "metadata": {},
   "source": [
    "5. Is it true that people who earn more than 50K have at least high school education?\n",
    "(education – Bachelors, Prof-school, Assoc-acdm, Assoc-voc,\n",
    "Masters or Doctorate feature)\n"
   ]
  },
  {
   "cell_type": "code",
   "execution_count": 38,
   "metadata": {},
   "outputs": [
    {
     "data": {
      "text/plain": [
       "False"
      ]
     },
     "execution_count": 38,
     "metadata": {},
     "output_type": "execute_result"
    }
   ],
   "source": [
    "a=df[df[\"income\"] == \">50K\"]\n",
    "b=a[\"education\"]\n",
    "c=b.isin([\"Bachelors\", \"Prof-school\", \"Assoc-acdm\", \"Assoc-voc\",\"Masters\",\"Doctorate\"]).all()\n",
    "c\n"
   ]
  },
  {
   "cell_type": "markdown",
   "metadata": {},
   "source": [
    "6. Display age statistics for each race (race feature) and each gender (sex feature). \n",
    "Use groupby() and describe(). Find the maximum age of men of Amer-Indian\n",
    "Eskimo race. "
   ]
  },
  {
   "cell_type": "code",
   "execution_count": 17,
   "metadata": {},
   "outputs": [
    {
     "name": "stdout",
     "output_type": "stream",
     "text": [
      "                             count       mean        std   min   25%   50%  \\\n",
      "race               gender                                                    \n",
      "Amer-Indian-Eskimo Female    185.0  36.237838  12.840056  17.0  26.0  35.0   \n",
      "                   Male      285.0  36.989474  11.703943  17.0  29.0  35.0   \n",
      "Asian-Pac-Islander Female    517.0  35.657640  12.637799  17.0  25.0  34.0   \n",
      "                   Male     1002.0  38.994012  12.824878  18.0  29.0  37.0   \n",
      "Black              Female   2308.0  37.905979  12.736001  17.0  28.0  36.0   \n",
      "                   Male     2377.0  37.922592  13.036981  17.0  28.0  36.0   \n",
      "Other              Female    155.0  31.212903  11.233061  17.0  23.0  29.0   \n",
      "                   Male      251.0  35.167331  11.808297  17.0  26.0  32.0   \n",
      "White              Female  13027.0  36.882935  14.454178  17.0  25.0  35.0   \n",
      "                   Male    28735.0  39.704507  13.475250  17.0  29.0  38.0   \n",
      "\n",
      "                            75%   max  \n",
      "race               gender              \n",
      "Amer-Indian-Eskimo Female  46.0  80.0  \n",
      "                   Male    44.0  82.0  \n",
      "Asian-Pac-Islander Female  44.0  81.0  \n",
      "                   Male    46.0  90.0  \n",
      "Black              Female  46.0  90.0  \n",
      "                   Male    46.0  90.0  \n",
      "Other              Female  37.0  74.0  \n",
      "                   Male    42.5  77.0  \n",
      "White              Female  47.0  90.0  \n",
      "                   Male    49.0  90.0  \n",
      "Maximum age of men of Amer-Indian-Eskimo race is  82\n"
     ]
    }
   ],
   "source": [
    "print(df.groupby([\"race\",\"gender\"])[\"age\"].describe())\n",
    "a=df[(df[\"race\"]==\"Amer-Indian-Eskimo\") & (df[\"gender\"]==\"Male\")][\"age\"].max()\n",
    "print(\"Maximum age of men of Amer-Indian-Eskimo race is \",a)"
   ]
  },
  {
   "cell_type": "markdown",
   "metadata": {},
   "source": [
    "7. Among whom is the proportion of those who earn a lot (>50K) greater: married or single \n",
    "men (marital-status feature)? Consider as married those who have a marital\n",
    "status starting with Married (Married-civ-spouse, Married-spouse-absent or Married-AF\n",
    "spouse), the rest are considered bachelors.\n"
   ]
  },
  {
   "cell_type": "code",
   "execution_count": 10,
   "metadata": {},
   "outputs": [
    {
     "name": "stdout",
     "output_type": "stream",
     "text": [
      "The Proportional of People with income > 50K and married is more\n"
     ]
    }
   ],
   "source": [
    "a=len(df[df[\"income\"] == \">50K\"])\n",
    "Rich_married=len(df[(df[\"income\"]==\">50K\") & (df[\"marital-status\"].isin([\"Married-civ-spouse\",\"Married-spouse-absent\",\"Married-AF-spouse\"]))])\n",
    "Rich_single=a-Rich_married\n",
    "if(Rich_married > Rich_single):\n",
    "    print(\"The Proportional of People with income > 50K and married is more\")\n",
    "else:\n",
    "    print(\"The Proportional of People with income > 50K and single is more\")"
   ]
  },
  {
   "cell_type": "markdown",
   "metadata": {},
   "source": [
    "8. What is the maximum number of hours a person works per week (hours-per-week feature)?"
   ]
  },
  {
   "cell_type": "code",
   "execution_count": 20,
   "metadata": {},
   "outputs": [
    {
     "data": {
      "text/plain": [
       "99"
      ]
     },
     "execution_count": 20,
     "metadata": {},
     "output_type": "execute_result"
    }
   ],
   "source": [
    "df[\"hours-per-week\"].max()"
   ]
  },
  {
   "cell_type": "markdown",
   "metadata": {},
   "source": [
    "9.  How many people work such a number of hours, and what is the percentage of those who \n",
    "earn a lot (>50K) among them? "
   ]
  },
  {
   "cell_type": "code",
   "execution_count": 36,
   "metadata": {},
   "outputs": [
    {
     "name": "stdout",
     "output_type": "stream",
     "text": [
      "The number of people working for  99  hours is  137\n",
      "The percentage of people earning more than 50k among them is  29.927007299270077\n"
     ]
    }
   ],
   "source": [
    "people=len(df[df[\"hours-per-week\"]==df[\"hours-per-week\"].max()])\n",
    "print(\"The number of people working for \",df[\"hours-per-week\"].max(), \" hours is \",people)\n",
    "rich=len(df[(df[\"hours-per-week\"]==df[\"hours-per-week\"].max()) & (df[\"income\"]==\">50K\")])\n",
    "PERCENTAGE=(rich/people)*100\n",
    "print(\"The percentage of people earning more than 50k among them is \",PERCENTAGE)"
   ]
  },
  {
   "cell_type": "markdown",
   "metadata": {},
   "source": [
    "10.  Count the average time of work (hours-per-week) for those who earn a little and a lot \n",
    "(salary) for each country (native-country). What will these be for Japan? "
   ]
  },
  {
   "cell_type": "code",
   "execution_count": 50,
   "metadata": {},
   "outputs": [
    {
     "name": "stdout",
     "output_type": "stream",
     "text": [
      "avg time of work for those who earn a lot\n",
      "native-country\n",
      "?                             45.318182\n",
      "Cambodia                      43.888889\n",
      "Canada                        46.126984\n",
      "China                         42.027778\n",
      "Columbia                      56.250000\n",
      "Cuba                          42.852941\n",
      "Dominican-Republic            42.800000\n",
      "Ecuador                       47.833333\n",
      "El-Salvador                   43.454545\n",
      "England                       46.297872\n",
      "France                        46.500000\n",
      "Germany                       45.706897\n",
      "Greece                        55.555556\n",
      "Guatemala                     36.666667\n",
      "Haiti                         40.666667\n",
      "Honduras                      50.000000\n",
      "Hong                          43.750000\n",
      "Hungary                       46.333333\n",
      "India                         46.274194\n",
      "Iran                          47.954545\n",
      "Ireland                       45.181818\n",
      "Italy                         45.647059\n",
      "Jamaica                       42.400000\n",
      "Japan                         47.062500\n",
      "Laos                          40.000000\n",
      "Mexico                        45.638298\n",
      "Nicaragua                     38.333333\n",
      "Outlying-US(Guam-USVI-etc)    40.000000\n",
      "Peru                          40.000000\n",
      "Philippines                   43.588235\n",
      "Poland                        39.588235\n",
      "Portugal                      46.750000\n",
      "Puerto-Rico                   39.900000\n",
      "Scotland                      46.666667\n",
      "South                         51.400000\n",
      "Taiwan                        45.538462\n",
      "Thailand                      53.000000\n",
      "Trinadad&Tobago               40.000000\n",
      "United-States                 45.471853\n",
      "Vietnam                       39.428571\n",
      "Yugoslavia                    43.375000\n",
      "Name: hours-per-week, dtype: float64\n",
      "avg time of work for those who earn a little\n",
      "native-country\n",
      "?                             39.552590\n",
      "Cambodia                      41.157895\n",
      "Canada                        37.378151\n",
      "China                         36.686047\n",
      "Columbia                      39.123457\n",
      "Cuba                          39.201923\n",
      "Dominican-Republic            41.561224\n",
      "Ecuador                       37.948718\n",
      "El-Salvador                   35.819444\n",
      "England                       39.375000\n",
      "France                        40.090909\n",
      "Germany                       38.898649\n",
      "Greece                        41.870968\n",
      "Guatemala                     38.788235\n",
      "Haiti                         36.409091\n",
      "Holand-Netherlands            40.000000\n",
      "Honduras                      34.055556\n",
      "Hong                          39.000000\n",
      "Hungary                       34.076923\n",
      "India                         38.044944\n",
      "Iran                          39.972973\n",
      "Ireland                       41.269231\n",
      "Italy                         38.690141\n",
      "Jamaica                       38.626374\n",
      "Japan                         39.733333\n",
      "Laos                          39.333333\n",
      "Mexico                        39.931416\n",
      "Nicaragua                     36.847826\n",
      "Outlying-US(Guam-USVI-etc)    41.409091\n",
      "Peru                          36.214286\n",
      "Philippines                   38.014286\n",
      "Poland                        37.228571\n",
      "Portugal                      41.254545\n",
      "Puerto-Rico                   38.908537\n",
      "Scotland                      40.833333\n",
      "South                         41.052632\n",
      "Taiwan                        35.307692\n",
      "Thailand                      43.040000\n",
      "Trinadad&Tobago               38.800000\n",
      "United-States                 38.817189\n",
      "Vietnam                       37.848101\n",
      "Yugoslavia                    38.533333\n",
      "Name: hours-per-week, dtype: float64\n",
      "The avg hours of work for people living in Japan who earn a lot is  47.0625\n",
      "The avg hours of work for people living in Japan who earn a little is  39.733333333333334\n"
     ]
    }
   ],
   "source": [
    "print(\"avg time of work for those who earn a lot\")\n",
    "print(df[df[\"income\"]==\">50K\"].groupby(\"native-country\")[\"hours-per-week\"].mean())\n",
    "print(\"avg time of work for those who earn a little\")\n",
    "print(df[df[\"income\"]==\"<=50K\"].groupby(\"native-country\")[\"hours-per-week\"].mean())\n",
    "a=df[(df[\"income\"]==\">50K\") & (df[\"native-country\"]==\"Japan\")][\"hours-per-week\"].mean()\n",
    "print(\"The avg hours of work for people living in Japan who earn a lot is \",a)\n",
    "b=df[(df[\"income\"]==\"<=50K\") & (df[\"native-country\"]==\"Japan\")][\"hours-per-week\"].mean()\n",
    "print(\"The avg hours of work for people living in Japan who earn a little is \",b)"
   ]
  },
  {
   "cell_type": "code",
   "execution_count": null,
   "metadata": {},
   "outputs": [],
   "source": []
  }
 ],
 "metadata": {
  "kernelspec": {
   "display_name": "Python 3",
   "language": "python",
   "name": "python3"
  },
  "language_info": {
   "codemirror_mode": {
    "name": "ipython",
    "version": 3
   },
   "file_extension": ".py",
   "mimetype": "text/x-python",
   "name": "python",
   "nbconvert_exporter": "python",
   "pygments_lexer": "ipython3",
   "version": "3.undefined.undefined"
  }
 },
 "nbformat": 4,
 "nbformat_minor": 2
}
